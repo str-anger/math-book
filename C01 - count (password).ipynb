{
 "cells": [
  {
   "cell_type": "code",
   "execution_count": 1,
   "metadata": {},
   "outputs": [],
   "source": [
    "# символы, которые мы допускаем для использования в паролях. Тут они просто для наглядности\n",
    "lower = 'abcdefghijklmnopqrstuvwxyz'\n",
    "upper = 'ABCDEFGHIJKLMNOPQRSTUVWXYZ'\n",
    "nums = '0123456789'\n",
    "spec = '`~!@#$%^&*()_-+={}[]\\|:;\"\\'<>,.?/'\n",
    "\n",
    "# длина пароля\n",
    "char_count = 6\n",
    "\n",
    "# скорость обработки одного пароля, сек\n",
    "my_rate = 0.034\n",
    "\n",
    "# цена процессорного часа, $\n",
    "amazon_price_per_hour = 0.0058"
   ]
  },
  {
   "cell_type": "code",
   "execution_count": 2,
   "metadata": {},
   "outputs": [
    {
     "name": "stdout",
     "output_type": "stream",
     "text": [
      "Рассматривая 94 различных символов, мы построим 689869781056 паролей длины 6\n",
      "Их взлом в худшем случае займёт 743.2622428798135 процессорных лет\n",
      "Это будет стоить $37789.53\n"
     ]
    }
   ],
   "source": [
    "# всего разных символов\n",
    "sum_len = len(lower) + len(upper) + len(nums) + len(spec)\n",
    "\n",
    "print(\"Рассматривая\", sum_len, \"различных символов, мы построим\", sum_len ** char_count, \"паролей длины\", char_count)\n",
    "print(\"Их взлом в худшем случае займёт\", sum_len ** char_count * my_rate / (60 * 60 * 24 * 365.25),\"процессорных лет\")\n",
    "print(\"Это будет стоить ${:.2f}\".format(sum_len ** char_count * my_rate / (60 * 60) * amazon_price_per_hour))"
   ]
  },
  {
   "cell_type": "code",
   "execution_count": 3,
   "metadata": {},
   "outputs": [
    {
     "name": "stdout",
     "output_type": "stream",
     "text": [
      "Рассматривая 94 различных символов, мы построим 149541664896 паролей длины 6\n",
      "Их взлом в худшем случае займёт 161.11543990873832 процессорных лет\n",
      "Это будет стоить  $8191.56\n",
      "Это в 4.61 раза лучше, чем предыдущая оценка\n"
     ]
    }
   ],
   "source": [
    "# а теперь вместо прямого перебора рассмотрим ограничения\n",
    "\n",
    "# всего всех паролей\n",
    "union_ABCD = sum_len ** char_count\n",
    "# символов без заглавных букв\n",
    "no_upper = sum_len - len(upper)\n",
    "# символов без строчных букв\n",
    "no_lower = sum_len - len(lower)\n",
    "# символов без цифр\n",
    "no_nums = sum_len - len(nums)\n",
    "# символов без специальных\n",
    "no_spec = sum_len - len(spec)\n",
    "\n",
    "# без букв, и т.д.\n",
    "no_upper_lower = len(nums) + len(spec)\n",
    "no_lower_nums = len(upper) + len(spec)\n",
    "no_nums_spec = len(upper) + len(lower)\n",
    "no_spec_upper = len(nums) + len(lower)\n",
    "\n",
    "intersection_ABCD = union_ABCD\n",
    "intersection_ABCD -= no_upper ** char_count - no_upper_lower ** char_count\n",
    "intersection_ABCD -= no_lower ** char_count - no_lower_nums ** char_count\n",
    "intersection_ABCD -= no_nums ** char_count - no_nums_spec ** char_count\n",
    "intersection_ABCD -= no_spec ** char_count - no_spec_upper ** char_count\n",
    "\n",
    "print(\"Рассматривая\", sum_len, \"различных символов, мы построим\", intersection_ABCD, \"паролей длины\", char_count)\n",
    "print(\"Их взлом в худшем случае займёт\", intersection_ABCD * my_rate / (60 * 60 * 24 * 365.25), \"процессорных лет\")\n",
    "print(\"Это будет стоить  ${:.2f}\".format(intersection_ABCD * my_rate / (60 * 60) * amazon_price_per_hour))\n",
    "print(\"Это в {:.2f} раза лучше, чем предыдущая оценка\".format(sum_len ** char_count / intersection_ABCD))"
   ]
  }
 ],
 "metadata": {
  "kernelspec": {
   "display_name": "Python 3",
   "language": "python",
   "name": "python3"
  },
  "language_info": {
   "codemirror_mode": {
    "name": "ipython",
    "version": 3
   },
   "file_extension": ".py",
   "mimetype": "text/x-python",
   "name": "python",
   "nbconvert_exporter": "python",
   "pygments_lexer": "ipython3",
   "version": "3.6.5"
  }
 },
 "nbformat": 4,
 "nbformat_minor": 2
}
