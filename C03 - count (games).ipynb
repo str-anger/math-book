{
 "cells": [
  {
   "cell_type": "code",
   "execution_count": 1,
   "metadata": {},
   "outputs": [],
   "source": [
    "def factorial(n):\n",
    "    if n in [0, 1]:\n",
    "        return 1\n",
    "    else:\n",
    "        r = 1\n",
    "        for i in range(2, n+1):\n",
    "            r *= i\n",
    "        return r\n",
    "\n",
    "# число сочетаний из N по K, то есть число подмножеств размера K у множества размера N\n",
    "def C(n, k):\n",
    "    return factorial(n) // factorial(n - k) // factorial(k)"
   ]
  },
  {
   "cell_type": "code",
   "execution_count": 2,
   "metadata": {},
   "outputs": [
    {
     "name": "stdout",
     "output_type": "stream",
     "text": [
      "Верхняя граница оценки числа позиций игры в крестики-нолики = 19683\n",
      "Более точная оценка числа позиций = 6046\n"
     ]
    }
   ],
   "source": [
    "import itertools\n",
    "\n",
    "cell_count = 9   # всего клеток на поле\n",
    "options = 'xo '  # варианты - крестик, нолик или пусто\n",
    "upper_limit = len(options) ** cell_count\n",
    "print(\"Верхняя граница оценки числа позиций игры в крестики-нолики =\", upper_limit)\n",
    "\n",
    "upper_limit = 0\n",
    "for occupied_count in range(cell_count+1):\n",
    "    o_s = occupied_count // 2\n",
    "    upper_limit += C(cell_count, occupied_count) * C(occupied_count, o_s)\n",
    "\n",
    "print(\"Более точная оценка числа позиций =\", upper_limit)"
   ]
  },
  {
   "cell_type": "code",
   "execution_count": 3,
   "metadata": {},
   "outputs": [
    {
     "name": "stdout",
     "output_type": "stream",
     "text": [
      "Оказывается, легальных конфигураций поля = 5890\n"
     ]
    }
   ],
   "source": [
    "# выигрышные позиции\n",
    "def wins(field, who):\n",
    "    combinations = [[0, 1, 2], [3, 4, 5], [6, 7, 8],\n",
    "                    [0, 3, 6], [1, 4, 7], [2, 5, 8],\n",
    "                    [0, 4, 8], [2, 4, 6]]\n",
    "    # для каждой комбинации проверяем, что её занимают 3 символа 'who'\n",
    "    return any(map(lambda pos: list(map(lambda p: field[p], pos)).count(who) == 3,  combinations))\n",
    "\n",
    "# позиция могла возникнуть у ходе игры\n",
    "def is_valid(field):\n",
    "    xs, os, _s = field.count('x'), field.count('o'), field.count(' ')\n",
    "    # не может быть такого, что оба победили\n",
    "    both_wins = wins(field, 'x') and wins(field, 'o')\n",
    "    # клеток 9, всех сколько нужно\n",
    "    return len(field) == 9 and (xs + os + _s == 9) and (xs == os or xs == os + 1) and not both_wins\n",
    "\n",
    "# печать поля\n",
    "def print_field(fld):\n",
    "    print(fld[:3].replace(' ', '.'))\n",
    "    print(fld[3:6].replace(' ', '.'))\n",
    "    print(fld[6:].replace(' ', '.'))\n",
    "    print()\n",
    "\n",
    "# сгенерируем все возможные поля и отберём только корректные варианты\n",
    "fields = list(map(lambda t: ''.join(t), filter(is_valid, itertools.product(options, repeat=9))))\n",
    "print(\"Оказывается, легальных конфигураций поля =\", len(fields))"
   ]
  },
  {
   "cell_type": "code",
   "execution_count": 4,
   "metadata": {},
   "outputs": [
    {
     "name": "stdout",
     "output_type": "stream",
     "text": [
      "Победа x = 942 ; Победа o = 412 ; [Пока] ничья = 4536\n"
     ]
    }
   ],
   "source": [
    "xwinset = set()\n",
    "owinset = set()\n",
    "tieset = set()\n",
    "for field in fields:\n",
    "    if wins(field, 'x'):\n",
    "        xwinset.add(field)\n",
    "    elif wins(field, 'o'):\n",
    "        owinset.add(field)\n",
    "    else:\n",
    "        tieset.add(field)\n",
    "\n",
    "print(\"Победа x =\", len(xwinset), \"; Победа o =\", len(owinset), \"; [Пока] ничья =\", len(tieset))"
   ]
  },
  {
   "cell_type": "code",
   "execution_count": 5,
   "metadata": {},
   "outputs": [],
   "source": [
    "# функция проверяет, может ли позиция bigger получиться из позиции smaller\n",
    "def is_subfield(bigger, smaller):\n",
    "    return all(map(lambda a, b: a == b or b == ' ', bigger, smaller))\n",
    "\n",
    "# функция проверяет, может ли позиция bigger получиться из позиции smaller за 1 ход\n",
    "def is_one_move_ahead(bigger, smaller):\n",
    "    return sum(map(lambda a, b: a != b and b == ' ', bigger, smaller)) == 1"
   ]
  },
  {
   "cell_type": "code",
   "execution_count": 6,
   "metadata": {},
   "outputs": [],
   "source": [
    "# построим граф переходов перебором \"в лоб\"\n",
    "# ВНИМАНИЕ, самая долгая операция, может занять несколько минут\n",
    "# построить такой граф можно быстрее. Подумайте как\n",
    "def build_graph(fields):\n",
    "    graph = dict()\n",
    "    for field1 in fields:\n",
    "        for field2 in fields:\n",
    "            if is_subfield(field1, field2) and is_one_move_ahead(field1, field2):\n",
    "                if field2 not in graph:\n",
    "                    graph[field2] = set()\n",
    "                graph[field2].add(field1)\n",
    "    return graph\n",
    "\n",
    "graph = build_graph(fields)"
   ]
  },
  {
   "cell_type": "code",
   "execution_count": 7,
   "metadata": {},
   "outputs": [],
   "source": [
    "# посмотрим на N ходов вперёд, получим всех \"наследников\" поля field\n",
    "def get_N_moves_descendants(field, N):\n",
    "    if field not in graph:\n",
    "        return set()\n",
    "    descendants = set(graph[field])\n",
    "    for i in range(N-1):\n",
    "        new_descendants = set()\n",
    "        for descendant in descendants:\n",
    "            if descendant in graph:\n",
    "                new_descendants |= graph[descendant]\n",
    "        descendants = new_descendants\n",
    "    return set(descendants) # чтобы не испортить сам граф - делаем копию"
   ]
  },
  {
   "cell_type": "code",
   "execution_count": 8,
   "metadata": {},
   "outputs": [],
   "source": [
    "# ищем ответный ход для игрока who. Достаточно простая стратегия\n",
    "def find_answer(field, who):\n",
    "    # если играет крестик - его цель xwinset\n",
    "    target_set = owinset if who == 'o' else xwinset\n",
    "    afraid_set = xwinset if who == 'o' else owinset\n",
    "    # среди непосредственных потомков ищем победные ходы\n",
    "    winning = target_set & get_N_moves_descendants(field, 1)\n",
    "    if winning:\n",
    "        return list(winning)[0]\n",
    "    else:\n",
    "        candidates = get_N_moves_descendants(field, 1)\n",
    "        #1 удалим плохие ходы, которые приведут к поражению от следующего хода противника\n",
    "        problems = get_N_moves_descendants(field, 2) & afraid_set\n",
    "        to_remove = set()\n",
    "        for p in problems:\n",
    "            to_remove |= set(filter(lambda candidate: is_subfield(p, candidate), candidates))\n",
    "        candidates -= to_remove\n",
    "        # если ходов не осталось, выходим разочарованно\n",
    "        print(\"Осталось\", len(candidates), \"относительно безопасных ходов\")\n",
    "        if not candidates:\n",
    "            return \"Сдаюсь\"\n",
    "        # дальше начинается \"стратегия\". Выберем простую.\n",
    "        # Для каждого хода посчитаем число победных позиций и вычтем число поражений\n",
    "        wins = dict()\n",
    "        losses = dict()\n",
    "        for candidate in candidates:\n",
    "            # пока доска не наполнится\n",
    "            wins[candidate] = set()\n",
    "            losses[candidate] = set()\n",
    "            for x in range(3, cell_count+2, 2):\n",
    "                wins[candidate] |= (target_set & get_N_moves_descendants(candidate, x))\n",
    "            # пока доска не наполнится\n",
    "            for x in range(2, cell_count+2, 2):\n",
    "                losses[candidate] |= (afraid_set & get_N_moves_descendants(candidate, x))\n",
    "        r = sorted(candidates, key=lambda c: len(wins[c]) - len(losses[c]), reverse=True)\n",
    "        print(\"Ожидаемых побед\", len(wins[r[0]]), \"; Ожидаемых поражений\", len(losses[r[0]]))\n",
    "        print(\"Ход\", who, \":\")\n",
    "        return r[0]"
   ]
  },
  {
   "cell_type": "code",
   "execution_count": 9,
   "metadata": {
    "scrolled": false
   },
   "outputs": [
    {
     "name": "stdout",
     "output_type": "stream",
     "text": [
      "...\n",
      "...\n",
      "...\n",
      "\n",
      "Осталось 9 относительно безопасных ходов\n",
      "Ожидаемых побед 184 ; Ожидаемых поражений 24\n",
      "Ход x :\n",
      "...\n",
      ".x.\n",
      "...\n",
      "\n",
      "Осталось 8 относительно безопасных ходов\n",
      "Ожидаемых побед 12 ; Ожидаемых поражений 76\n",
      "Ход o :\n",
      "...\n",
      ".x.\n",
      "o..\n",
      "\n",
      "Осталось 7 относительно безопасных ходов\n",
      "Ожидаемых побед 37 ; Ожидаемых поражений 4\n",
      "Ход x :\n",
      "...\n",
      ".x.\n",
      "o.x\n",
      "\n",
      "Осталось 1 относительно безопасных ходов\n",
      "Ожидаемых побед 4 ; Ожидаемых поражений 4\n",
      "Ход o :\n",
      "o..\n",
      ".x.\n",
      "o.x\n",
      "\n",
      "Осталось 1 относительно безопасных ходов\n",
      "Ожидаемых побед 2 ; Ожидаемых поражений 0\n",
      "Ход x :\n",
      "o..\n",
      "xx.\n",
      "o.x\n",
      "\n",
      "Осталось 1 относительно безопасных ходов\n",
      "Ожидаемых побед 0 ; Ожидаемых поражений 0\n",
      "Ход o :\n",
      "o..\n",
      "xxo\n",
      "o.x\n",
      "\n",
      "Осталось 3 относительно безопасных ходов\n",
      "Ожидаемых побед 0 ; Ожидаемых поражений 0\n",
      "Ход x :\n",
      "o..\n",
      "xxo\n",
      "oxx\n",
      "\n",
      "Осталось 1 относительно безопасных ходов\n",
      "Ожидаемых побед 0 ; Ожидаемых поражений 0\n",
      "Ход o :\n",
      "oo.\n",
      "xxo\n",
      "oxx\n",
      "\n",
      "Осталось 1 относительно безопасных ходов\n",
      "Ожидаемых побед 0 ; Ожидаемых поражений 0\n",
      "Ход x :\n",
      "oox\n",
      "xxo\n",
      "oxx\n",
      "\n"
     ]
    }
   ],
   "source": [
    "# предложим алгоритму сыграть самому собой\n",
    "field = '         '\n",
    "while field != \"Сдаюсь\" and field.count(' ') > 0:\n",
    "    print_field(field)\n",
    "    who = 'x' if field.count(' ') % 2 == 1 else 'o'\n",
    "    winset = xwinset if who == 'x' else owinset\n",
    "    field = find_answer(field, who)\n",
    "    if field in winset:\n",
    "        print(\"ПОБЕДА!\")\n",
    "        print_field(field)\n",
    "        break\n",
    "else:\n",
    "    if field != \"Сдаюсь\":\n",
    "        print_field(field)\n",
    "    else:\n",
    "        print(\"Противник сдался\")"
   ]
  }
 ],
 "metadata": {
  "kernelspec": {
   "display_name": "Python 3",
   "language": "python",
   "name": "python3"
  },
  "language_info": {
   "codemirror_mode": {
    "name": "ipython",
    "version": 3
   },
   "file_extension": ".py",
   "mimetype": "text/x-python",
   "name": "python",
   "nbconvert_exporter": "python",
   "pygments_lexer": "ipython3",
   "version": "3.6.5"
  }
 },
 "nbformat": 4,
 "nbformat_minor": 2
}
